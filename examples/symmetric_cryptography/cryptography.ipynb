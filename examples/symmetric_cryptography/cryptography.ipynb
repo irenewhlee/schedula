{
 "cells": [
  {
   "cell_type": "markdown",
   "metadata": {},
   "source": [
    "# Symmetric cryptography"
   ]
  },
  {
   "cell_type": "markdown",
   "metadata": {},
   "source": [
    "## Importing modules"
   ]
  },
  {
   "cell_type": "code",
   "execution_count": 1,
   "metadata": {},
   "outputs": [],
   "source": [
    "import requests\n",
    "import schedula as sh\n",
    "from model import dsp as model\n",
    "from server import dsp as server"
   ]
  },
  {
   "cell_type": "markdown",
   "metadata": {},
   "source": [
    "## Variables definition"
   ]
  },
  {
   "cell_type": "code",
   "execution_count": 2,
   "metadata": {},
   "outputs": [],
   "source": [
    "message = 'secret message'\n",
    "encrypted_fpath = 'data.secret'\n",
    "key_fpath = 'key.key'"
   ]
  },
  {
   "cell_type": "markdown",
   "metadata": {},
   "source": [
    "## Cryptography model"
   ]
  },
  {
   "cell_type": "code",
   "execution_count": 3,
   "metadata": {},
   "outputs": [
    {
     "data": {
      "text/html": [
       "\n",
       "<style> .sh-box { width: 100%; height: 500px } </style>\n",
       "<iframe id=\"4439523824\" class=\"sh-box\" src=\"http://localhost:60897/\" allowfullscreen>\n",
       "</iframe>\n"
      ],
      "text/plain": [
       "Site(SiteMap([(symmetric_cryptography, SiteMap())]), host='localhost', port=0, depth=-1, index=True, root_path=None)"
      ]
     },
     "execution_count": 3,
     "metadata": {},
     "output_type": "execute_result"
    }
   ],
   "source": [
    "dsp = model.register()\n",
    "# Click on the graph to see the model.\n",
    "dsp.plot(view=False).site()"
   ]
  },
  {
   "cell_type": "markdown",
   "metadata": {},
   "source": [
    "## Data Encryption"
   ]
  },
  {
   "cell_type": "code",
   "execution_count": 4,
   "metadata": {},
   "outputs": [
    {
     "data": {
      "text/plain": [
       "Solution([('decrypted', 'secret message'),\n",
       "          ('encrypted_fpath', 'data.secret'),\n",
       "          ('key_fpath', 'key.key'),\n",
       "          ('encrypted',\n",
       "           'gAAAAABjmOgPu6vEiI2lqWUIwltdXjF72beOuV9c81Oe2OP8X-ml-o0rjP71hawDLhbVzHygiS2wQQIL_hYokZd80bs_WS_erQ=='),\n",
       "          ('key', '3yVCLVDT5SZGVgrLyUWXpc-0RZjTqQACR3fzw8jyfaQ=')])"
      ]
     },
     "execution_count": 4,
     "metadata": {},
     "output_type": "execute_result"
    }
   ],
   "source": [
    "sol = dsp(inputs=dict(\n",
    "    decrypted=message, \n",
    "    encrypted_fpath=encrypted_fpath,\n",
    "    key_fpath=key_fpath\n",
    "))\n",
    "sol"
   ]
  },
  {
   "cell_type": "code",
   "execution_count": 5,
   "metadata": {},
   "outputs": [
    {
     "data": {
      "text/html": [
       "\n",
       "<style> .sh-box { width: 100%; height: 500px } </style>\n",
       "<iframe id=\"4475479808\" class=\"sh-box\" src=\"http://localhost:60901/\" allowfullscreen>\n",
       "</iframe>\n"
      ],
      "text/plain": [
       "Site(SiteMap([(symmetric_cryptography, SiteMap())]), host='localhost', port=0, depth=-1, index=True, root_path=None)"
      ]
     },
     "execution_count": 5,
     "metadata": {},
     "output_type": "execute_result"
    }
   ],
   "source": [
    "# Click on the graph to see the model results.\n",
    "sol.plot(view=False).site()"
   ]
  },
  {
   "cell_type": "markdown",
   "metadata": {},
   "source": [
    "## Data decryption"
   ]
  },
  {
   "cell_type": "code",
   "execution_count": 6,
   "metadata": {},
   "outputs": [
    {
     "data": {
      "text/plain": [
       "'secret message'"
      ]
     },
     "execution_count": 6,
     "metadata": {},
     "output_type": "execute_result"
    }
   ],
   "source": [
    "dsp(\n",
    "    inputs=sh.selector(('encrypted_fpath', 'key_fpath'), sol),\n",
    "    outputs=['decrypted']\n",
    ")['decrypted']"
   ]
  },
  {
   "cell_type": "markdown",
   "metadata": {},
   "source": [
    "## API server"
   ]
  },
  {
   "cell_type": "code",
   "execution_count": 7,
   "metadata": {},
   "outputs": [],
   "source": [
    "api = server.web(run=False).site(host='127.0.0.1', port=8080).run() # Deploy the server."
   ]
  },
  {
   "cell_type": "code",
   "execution_count": 8,
   "metadata": {},
   "outputs": [
    {
     "name": "stderr",
     "output_type": "stream",
     "text": [
      "127.0.0.1 - - [13/Dec/2022 22:02:10] \"POST / HTTP/1.1\" 200 -\n"
     ]
    },
    {
     "data": {
      "text/plain": [
       "{'decrypted': 'secret message',\n",
       " 'encrypted': 'gAAAAABjmOhSRU8QdLuBYH1lFM19_zFoJhSYp8HV8rJjVMgK_mqLyqhzvG18aAL7XaruGxZbwoY-Mp2yqeACJb53EES6n7w9CA==',\n",
       " 'key': 'dLpo7RARyaS2nZEKgJS3A1NgYSXsHsRln3vg3vwirxo='}"
      ]
     },
     "execution_count": 8,
     "metadata": {},
     "output_type": "execute_result"
    }
   ],
   "source": [
    "# Encrypt some data calling the dispatcher.\n",
    "res = requests.post(\n",
    "    api.url, json={'args': [{'decrypted': message}]}\n",
    ").json()['return']  \n",
    "res"
   ]
  },
  {
   "cell_type": "code",
   "execution_count": 9,
   "metadata": {},
   "outputs": [
    {
     "name": "stderr",
     "output_type": "stream",
     "text": [
      "127.0.0.1 - - [13/Dec/2022 22:02:10] \"POST /symmetric_cryptography/decrypt_message?data=input,return HTTP/1.1\" 200 -\n"
     ]
    },
    {
     "data": {
      "text/plain": [
       "{'input': {'kwargs': {'encrypted': 'gAAAAABjmOhSRU8QdLuBYH1lFM19_zFoJhSYp8HV8rJjVMgK_mqLyqhzvG18aAL7XaruGxZbwoY-Mp2yqeACJb53EES6n7w9CA==',\n",
       "   'key': 'dLpo7RARyaS2nZEKgJS3A1NgYSXsHsRln3vg3vwirxo='}},\n",
       " 'return': 'secret message'}"
      ]
     },
     "execution_count": 9,
     "metadata": {},
     "output_type": "execute_result"
    }
   ],
   "source": [
    "# Decrypt some data calling directly the function `decrypt_message`.\n",
    "requests.post(\n",
    "    '%s/symmetric_cryptography/decrypt_message?data=input,return'% api.url, \n",
    "    json={'kwargs': sh.selector(('key', 'encrypted'), res)}\n",
    ").json()"
   ]
  },
  {
   "cell_type": "code",
   "execution_count": 10,
   "metadata": {},
   "outputs": [
    {
     "data": {
      "text/plain": [
       "True"
      ]
     },
     "execution_count": 10,
     "metadata": {},
     "output_type": "execute_result"
    }
   ],
   "source": [
    "api.shutdown()  # To force the server shutdown."
   ]
  }
 ],
 "metadata": {
  "kernelspec": {
   "display_name": "Python 3 (ipykernel)",
   "language": "python",
   "name": "python3"
  },
  "language_info": {
   "codemirror_mode": {
    "name": "ipython",
    "version": 3
   },
   "file_extension": ".py",
   "mimetype": "text/x-python",
   "name": "python",
   "nbconvert_exporter": "python",
   "pygments_lexer": "ipython3",
   "version": "3.9.10"
  }
 },
 "nbformat": 4,
 "nbformat_minor": 2
}
