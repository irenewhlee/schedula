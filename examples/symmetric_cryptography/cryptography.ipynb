{
 "cells": [
  {
   "cell_type": "markdown",
   "metadata": {},
   "source": [
    "# Symmetric cryptography"
   ]
  },
  {
   "cell_type": "markdown",
   "metadata": {},
   "source": [
    "## Importing modules"
   ]
  },
  {
   "cell_type": "code",
   "execution_count": 1,
   "metadata": {},
   "source": [
    "import requests\n",
    "import schedula as sh\n",
    "from model import dsp as model\n",
    "from server import dsp as server"
   ],
   "outputs": []
  },
  {
   "cell_type": "markdown",
   "metadata": {},
   "source": [
    "## Variables definition"
   ]
  },
  {
   "cell_type": "code",
   "execution_count": 2,
   "metadata": {},
   "source": [
    "message = 'secret message'\n",
    "encrypted_fpath = 'data.secret'\n",
    "key_fpath = 'key.key'"
   ],
   "outputs": []
  },
  {
   "cell_type": "markdown",
   "metadata": {},
   "source": [
    "## Cryptography model"
   ]
  },
  {
   "cell_type": "code",
   "execution_count": 3,
   "metadata": {},
   "source": [
    "dsp = model.register()\n",
    "# Click on the graph to see the model.\n",
    "dsp.plot(view=False).site()"
   ],
   "outputs": []
  },
  {
   "cell_type": "markdown",
   "metadata": {},
   "source": [
    "## Data Encryption"
   ]
  },
  {
   "cell_type": "code",
   "execution_count": 4,
   "metadata": {},
   "source": [
    "sol = dsp(inputs=dict(\n",
    "    decrypted=message, \n",
    "    encrypted_fpath=encrypted_fpath,\n",
    "    key_fpath=key_fpath\n",
    "))\n",
    "sol"
   ],
   "outputs": []
  },
  {
   "cell_type": "code",
   "execution_count": 5,
   "metadata": {},
   "source": [
    "# Click on the graph to see the model results.\n",
    "sol.plot(view=False).site()"
   ],
   "outputs": []
  },
  {
   "cell_type": "markdown",
   "metadata": {},
   "source": [
    "## Data decryption"
   ]
  },
  {
   "cell_type": "code",
   "execution_count": 6,
   "metadata": {},
   "source": [
    "dsp(\n",
    "    inputs=sh.selector(('encrypted_fpath', 'key_fpath'), sol),\n",
    "    outputs=['decrypted']\n",
    ")['decrypted']"
   ],
   "outputs": []
  },
  {
   "cell_type": "markdown",
   "metadata": {},
   "source": [
    "## API server"
   ]
  },
  {
   "cell_type": "code",
   "execution_count": 7,
   "metadata": {},
   "source": [
    "api = server.web(run=False).site(host='127.0.0.1', port=8080).run() # Deploy the server."
   ],
   "outputs": []
  },
  {
   "cell_type": "code",
   "execution_count": 8,
   "metadata": {},
   "source": [
    "# Encrypt some data calling the dispatcher.\n",
    "res = requests.post(\n",
    "    api.url, json={'args': [{'decrypted': message}]}\n",
    ").json()['return']  \n",
    "res"
   ],
   "outputs": []
  },
  {
   "cell_type": "code",
   "execution_count": 9,
   "metadata": {},
   "source": [
    "# Decrypt some data calling directly the function `decrypt_message`.\n",
    "requests.post(\n",
    "    '%s/symmetric_cryptography/decrypt_message?data=input,return'% api.url, \n",
    "    json={'kwargs': sh.selector(('key', 'encrypted'), res)}\n",
    ").json()"
   ],
   "outputs": []
  },
  {
   "cell_type": "code",
   "execution_count": 10,
   "metadata": {},
   "source": [
    "api.shutdown()  # To force the server shutdown."
   ],
   "outputs": []
  }
 ],
 "metadata": {
  "kernelspec": {
   "display_name": "Python 3 (ipykernel)",
   "language": "python",
   "name": "python3"
  },
  "language_info": {
   "codemirror_mode": {
    "name": "ipython",
    "version": 3
   },
   "file_extension": ".py",
   "mimetype": "text/x-python",
   "name": "python",
   "nbconvert_exporter": "python",
   "pygments_lexer": "ipython3",
   "version": "3.9.10"
  }
 },
 "nbformat": 4,
 "nbformat_minor": 2
}
