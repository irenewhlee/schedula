{
 "cells": [
  {
   "cell_type": "markdown",
   "metadata": {},
   "source": [
    "# Length converter"
   ]
  },
  {
   "cell_type": "markdown",
   "metadata": {},
   "source": [
    "## Importing modules"
   ]
  },
  {
   "cell_type": "code",
   "execution_count": 1,
   "metadata": {},
   "outputs": [],
   "source": [
    "import schedula as sh\n",
    "from converter import converter, metric, imperial\n",
    "from form import form"
   ]
  },
  {
   "cell_type": "markdown",
   "metadata": {},
   "source": [
    "## Metric model"
   ]
  },
  {
   "cell_type": "code",
   "execution_count": 2,
   "metadata": {},
   "outputs": [
    {
     "data": {
      "text/html": [
       "\n",
       "<style> .sh-box { width: 100%; height: 500px } </style>\n",
       "<iframe id=\"4589302544\" class=\"sh-box\" src=\"http://localhost:57268/\" allowfullscreen>\n",
       "</iframe>\n"
      ],
      "text/plain": [
       "Site(SiteMap([(Metric, SiteMap())]), host='localhost', port=0, depth=-1, index=True, root_path=None)"
      ]
     },
     "execution_count": 2,
     "metadata": {},
     "output_type": "execute_result"
    }
   ],
   "source": [
    "# Click on the graph to see the model.\n",
    "metric.register().plot(view=False, engine='neato', body={'style': 'filled'}).site()"
   ]
  },
  {
   "cell_type": "markdown",
   "metadata": {},
   "source": [
    "## Imperial model"
   ]
  },
  {
   "cell_type": "code",
   "execution_count": 3,
   "metadata": {},
   "outputs": [
    {
     "data": {
      "text/html": [
       "\n",
       "<style> .sh-box { width: 100%; height: 500px } </style>\n",
       "<iframe id=\"4636200400\" class=\"sh-box\" src=\"http://localhost:57270/\" allowfullscreen>\n",
       "</iframe>\n"
      ],
      "text/plain": [
       "Site(SiteMap([(Imperial, SiteMap())]), host='localhost', port=0, depth=-1, index=True, root_path=None)"
      ]
     },
     "execution_count": 3,
     "metadata": {},
     "output_type": "execute_result"
    }
   ],
   "source": [
    "# Click on the graph to see the model.\n",
    "imperial.register().plot(view=False, engine='neato', body={'style': 'filled'}).site()"
   ]
  },
  {
   "cell_type": "markdown",
   "metadata": {},
   "source": [
    "## Coverter model"
   ]
  },
  {
   "cell_type": "code",
   "execution_count": 4,
   "metadata": {},
   "outputs": [
    {
     "data": {
      "text/html": [
       "\n",
       "<style> .sh-box { width: 100%; height: 500px } </style>\n",
       "<iframe id=\"4636509968\" class=\"sh-box\" src=\"http://localhost:57274/\" allowfullscreen>\n",
       "</iframe>\n"
      ],
      "text/plain": [
       "Site(SiteMap([(LengthConverter, SiteMap())]), host='localhost', port=0, depth=-1, index=True, root_path=None)"
      ]
     },
     "execution_count": 4,
     "metadata": {},
     "output_type": "execute_result"
    }
   ],
   "source": [
    "dsp = converter.register()\n",
    "# Click on the graph to see the model.\n",
    "dsp.plot(view=False, engine='neato', body={'style': 'filled'}).site()"
   ]
  },
  {
   "cell_type": "markdown",
   "metadata": {},
   "source": [
    "# Form Model"
   ]
  },
  {
   "cell_type": "code",
   "execution_count": 5,
   "metadata": {},
   "outputs": [
    {
     "data": {
      "text/html": [
       "\n",
       "<style> .sh-box { width: 100%; height: 500px } </style>\n",
       "<iframe id=\"4636925072\" class=\"sh-box\" src=\"http://localhost:57278/\" allowfullscreen>\n",
       "</iframe>\n"
      ],
      "text/plain": [
       "Site(SiteMap([(LengthConverterForm, SiteMap())]), host='localhost', port=0, depth=-1, index=True, root_path=None)"
      ]
     },
     "execution_count": 5,
     "metadata": {},
     "output_type": "execute_result"
    }
   ],
   "source": [
    "form = form.register()\n",
    "# Click on the graph to see the model.\n",
    "form.plot(view=False, graph_attr={'rankdir': 'LR'}).site()"
   ]
  },
  {
   "cell_type": "markdown",
   "metadata": {},
   "source": [
    "# Model Execution"
   ]
  },
  {
   "cell_type": "code",
   "execution_count": 9,
   "metadata": {
    "scrolled": true
   },
   "outputs": [
    {
     "data": {
      "text/plain": [
       "Solution([('cm', 2.5), ('mm', 25.0), ('km', 2.5e-05)])"
      ]
     },
     "execution_count": 9,
     "metadata": {},
     "output_type": "execute_result"
    }
   ],
   "source": [
    "sol = dsp.dispatch(inputs={'cm': 2.5}, outputs=['km'])\n",
    "sol"
   ]
  },
  {
   "cell_type": "code",
   "execution_count": 10,
   "metadata": {},
   "outputs": [
    {
     "data": {
      "text/html": [
       "\n",
       "<style> .sh-box { width: 100%; height: 500px } </style>\n",
       "<iframe id=\"4696731856\" class=\"sh-box\" src=\"http://localhost:57571/\" allowfullscreen>\n",
       "</iframe>\n"
      ],
      "text/plain": [
       "Site(SiteMap([(LengthConverter, SiteMap())]), host='localhost', port=0, depth=-1, index=True, root_path=None)"
      ]
     },
     "execution_count": 10,
     "metadata": {},
     "output_type": "execute_result"
    }
   ],
   "source": [
    "# Click on the graph to see the model.\n",
    "sol.plot(view=False, body={'style': 'filled'}).site()"
   ]
  },
  {
   "cell_type": "markdown",
   "metadata": {},
   "source": [
    "# GUI Execution"
   ]
  },
  {
   "cell_type": "code",
   "execution_count": 8,
   "metadata": {},
   "outputs": [
    {
     "data": {
      "text/html": [
       "\n",
       "<style> .sh-box { width: 100%; height: 500px } </style>\n",
       "<iframe id=\"4637592912\" class=\"sh-box\" src=\"http://localhost:57318/\" allowfullscreen>\n",
       "</iframe>\n"
      ],
      "text/plain": [
       "Site(FormMap([(LengthConverterForm, FormMap())]), host='localhost', port=57318, depth=-1, index=True, root_path=None)"
      ]
     },
     "execution_count": 8,
     "metadata": {},
     "output_type": "execute_result"
    },
    {
     "name": "stderr",
     "output_type": "stream",
     "text": [
      "127.0.0.1 - - [13/Jun/2024 11:29:46] \"GET / HTTP/1.1\" 200 -\n",
      "127.0.0.1 - - [13/Jun/2024 11:29:46] \"GET /static/schedula/props/js/index.js HTTP/1.1\" 404 -\n",
      "127.0.0.1 - - [13/Jun/2024 11:29:46] \"GET /static/schedula/js/main.d0ca5de4.js HTTP/1.1\" 200 -\n",
      "127.0.0.1 - - [13/Jun/2024 11:29:46] \"GET /static/schedula/css/main.13e13505.css HTTP/1.1\" 200 -\n",
      "127.0.0.1 - - [13/Jun/2024 11:29:46] \"GET /static/schedula/props/js/index.js HTTP/1.1\" 404 -\n",
      "127.0.0.1 - - [13/Jun/2024 11:29:47] \"GET /static/schedula/css/main.13e13505.css HTTP/1.1\" 304 -\n",
      "127.0.0.1 - - [13/Jun/2024 11:29:48] \"GET /locales/en_US/messages HTTP/1.1\" 404 -\n",
      "127.0.0.1 - - [13/Jun/2024 11:29:48] \"GET /locales/en/messages HTTP/1.1\" 404 -\n",
      "127.0.0.1 - - [13/Jun/2024 11:29:48] \"GET /static/schedula/forms/index-ui.json HTTP/1.1\" 200 -\n",
      "127.0.0.1 - - [13/Jun/2024 11:29:48] \"GET /static/schedula/forms/index-schema.json HTTP/1.1\" 200 -\n",
      "127.0.0.1 - - [13/Jun/2024 11:29:48] \"GET /static/schedula/js/3793.313eeae4.chunk.js HTTP/1.1\" 200 -\n",
      "127.0.0.1 - - [13/Jun/2024 11:29:48] \"GET /static/schedula/js/6562.c35d9b86.chunk.js HTTP/1.1\" 200 -\n",
      "127.0.0.1 - - [13/Jun/2024 11:29:48] \"GET /static/schedula/js/8568.40698121.chunk.js HTTP/1.1\" 200 -\n",
      "127.0.0.1 - - [13/Jun/2024 11:29:48] \"GET /static/schedula/js/3508.517796c7.chunk.js HTTP/1.1\" 200 -\n",
      "127.0.0.1 - - [13/Jun/2024 11:29:48] \"GET /static/schedula/js/5899.94aff875.chunk.js HTTP/1.1\" 200 -\n",
      "127.0.0.1 - - [13/Jun/2024 11:29:48] \"GET /static/schedula/js/474.c952ad64.chunk.js HTTP/1.1\" 200 -\n",
      "127.0.0.1 - - [13/Jun/2024 11:29:48] \"GET /static/schedula/js/2556.190d88d8.chunk.js HTTP/1.1\" 200 -\n",
      "127.0.0.1 - - [13/Jun/2024 11:29:48] \"GET /static/schedula/js/1940.a41328ce.chunk.js HTTP/1.1\" 200 -\n",
      "127.0.0.1 - - [13/Jun/2024 11:29:48] \"GET /static/schedula/js/7364.4924a21c.chunk.js HTTP/1.1\" 200 -\n",
      "127.0.0.1 - - [13/Jun/2024 11:29:48] \"GET /static/schedula/js/2931.0adcab7f.chunk.js HTTP/1.1\" 200 -\n",
      "127.0.0.1 - - [13/Jun/2024 11:29:48] \"GET /static/schedula/js/9894.c6e247c9.chunk.js HTTP/1.1\" 200 -\n",
      "127.0.0.1 - - [13/Jun/2024 11:29:48] \"GET /static/schedula/js/7049.216ec413.chunk.js HTTP/1.1\" 200 -\n",
      "127.0.0.1 - - [13/Jun/2024 11:29:48] \"GET /static/schedula/js/8620.8ca4d683.chunk.js HTTP/1.1\" 200 -\n",
      "127.0.0.1 - - [13/Jun/2024 11:29:48] \"GET /static/schedula/js/5870.6625ca31.chunk.js HTTP/1.1\" 200 -\n",
      "127.0.0.1 - - [13/Jun/2024 11:29:48] \"GET /static/schedula/js/1692.5ec0ad01.chunk.js HTTP/1.1\" 200 -\n",
      "127.0.0.1 - - [13/Jun/2024 11:29:48] \"GET /static/schedula/js/7505.521439e5.chunk.js HTTP/1.1\" 200 -\n",
      "127.0.0.1 - - [13/Jun/2024 11:29:48] \"GET /static/schedula/js/4692.4e2c6b7c.chunk.js HTTP/1.1\" 200 -\n",
      "127.0.0.1 - - [13/Jun/2024 11:29:48] \"GET /static/schedula/js/7124.7e1f21cf.chunk.js HTTP/1.1\" 200 -\n",
      "127.0.0.1 - - [13/Jun/2024 11:29:48] \"GET /static/schedula/js/6558.dbc62c6d.chunk.js HTTP/1.1\" 200 -\n",
      "127.0.0.1 - - [13/Jun/2024 11:29:48] \"GET /static/schedula/js/3581.4022e93c.chunk.js HTTP/1.1\" 200 -\n",
      "127.0.0.1 - - [13/Jun/2024 11:29:48] \"GET /static/schedula/js/9862.c9a0d52e.chunk.js HTTP/1.1\" 200 -\n",
      "127.0.0.1 - - [13/Jun/2024 11:29:48] \"GET /static/schedula/js/3070.44089e71.chunk.js HTTP/1.1\" 200 -\n",
      "127.0.0.1 - - [13/Jun/2024 11:29:48] \"GET /static/schedula/js/6834.399ca706.chunk.js HTTP/1.1\" 200 -\n",
      "127.0.0.1 - - [13/Jun/2024 11:29:48] \"GET /static/schedula/js/4424.32264c0f.chunk.js HTTP/1.1\" 200 -\n",
      "127.0.0.1 - - [13/Jun/2024 11:29:48] \"GET /static/schedula/js/8715.5d8dc348.chunk.js HTTP/1.1\" 200 -\n",
      "127.0.0.1 - - [13/Jun/2024 11:29:48] \"GET /static/schedula/js/8294.1eee2cd8.chunk.js HTTP/1.1\" 200 -\n",
      "127.0.0.1 - - [13/Jun/2024 11:29:48] \"GET /static/schedula/js/1748.ea52717d.chunk.js HTTP/1.1\" 200 -\n",
      "127.0.0.1 - - [13/Jun/2024 11:29:48] \"GET /static/schedula/js/4303.c3a825e2.chunk.js HTTP/1.1\" 200 -\n",
      "127.0.0.1 - - [13/Jun/2024 11:29:48] \"GET /static/schedula/js/7928.d01f28f2.chunk.js HTTP/1.1\" 200 -\n",
      "127.0.0.1 - - [13/Jun/2024 11:29:48] \"GET /static/schedula/js/835.48267712.chunk.js HTTP/1.1\" 200 -\n",
      "127.0.0.1 - - [13/Jun/2024 11:29:48] \"GET /static/schedula/js/2065.0d5474a7.chunk.js HTTP/1.1\" 200 -\n",
      "127.0.0.1 - - [13/Jun/2024 11:29:48] \"GET /static/schedula/js/4842.2a7e5fdf.chunk.js HTTP/1.1\" 200 -\n",
      "127.0.0.1 - - [13/Jun/2024 11:29:48] \"GET /static/schedula/js/8152.6127376f.chunk.js HTTP/1.1\" 200 -\n",
      "127.0.0.1 - - [13/Jun/2024 11:29:48] \"GET /static/schedula/js/5387.37f8f61e.chunk.js HTTP/1.1\" 200 -\n",
      "127.0.0.1 - - [13/Jun/2024 11:29:48] \"GET /static/schedula/css/5387.911e2e10.chunk.css HTTP/1.1\" 200 -\n",
      "127.0.0.1 - - [13/Jun/2024 11:29:49] \"GET /static/schedula/js/1745.833f0cff.chunk.js HTTP/1.1\" 200 -\n",
      "127.0.0.1 - - [13/Jun/2024 11:29:49] \"GET /static/schedula/js/3281.35755d96.chunk.js HTTP/1.1\" 200 -\n",
      "127.0.0.1 - - [13/Jun/2024 11:29:49] \"GET /static/schedula/js/2506.f185d23a.chunk.js HTTP/1.1\" 200 -\n",
      "127.0.0.1 - - [13/Jun/2024 11:29:49] \"GET /static/schedula/css/1745.dba1d253.chunk.css HTTP/1.1\" 200 -\n",
      "127.0.0.1 - - [13/Jun/2024 11:29:49] \"GET /static/schedula/js/132.a4de6573.chunk.js HTTP/1.1\" 200 -\n",
      "127.0.0.1 - - [13/Jun/2024 11:29:49] \"GET /static/schedula/js/9558.d129bc13.chunk.js HTTP/1.1\" 200 -\n",
      "127.0.0.1 - - [13/Jun/2024 11:29:49] \"GET /static/schedula/js/1279.be357b2b.chunk.js HTTP/1.1\" 200 -\n",
      "127.0.0.1 - - [13/Jun/2024 11:29:49] \"GET /static/schedula/js/2894.f1c4622f.chunk.js HTTP/1.1\" 200 -\n",
      "127.0.0.1 - - [13/Jun/2024 11:29:49] \"GET /static/schedula/js/1678.c61f118f.chunk.js HTTP/1.1\" 200 -\n",
      "127.0.0.1 - - [13/Jun/2024 11:29:49] \"GET /static/schedula/js/7828.85a7d563.chunk.js HTTP/1.1\" 200 -\n",
      "127.0.0.1 - - [13/Jun/2024 11:29:49] \"GET /static/schedula/js/4673.ce2e8e85.chunk.js HTTP/1.1\" 200 -\n",
      "127.0.0.1 - - [13/Jun/2024 11:29:49] \"GET /static/schedula/js/1082.a90979a4.chunk.js HTTP/1.1\" 200 -\n",
      "127.0.0.1 - - [13/Jun/2024 11:29:49] \"GET /static/schedula/js/6569.6299f80c.chunk.js HTTP/1.1\" 200 -\n",
      "127.0.0.1 - - [13/Jun/2024 11:29:49] \"GET /static/schedula/css/5398.d984bdf8.chunk.css HTTP/1.1\" 200 -\n",
      "127.0.0.1 - - [13/Jun/2024 11:29:49] \"GET /static/schedula/js/5398.edabcec0.chunk.js HTTP/1.1\" 200 -\n",
      "127.0.0.1 - - [13/Jun/2024 11:29:49] \"GET /static/schedula/js/1362.0594020f.chunk.js HTTP/1.1\" 200 -\n",
      "127.0.0.1 - - [13/Jun/2024 11:29:49] \"GET /static/schedula/js/5349.33d4a824.chunk.js HTTP/1.1\" 200 -\n",
      "127.0.0.1 - - [13/Jun/2024 11:29:49] \"GET /static/schedula/css/1362.a0725ba9.chunk.css HTTP/1.1\" 200 -\n",
      "127.0.0.1 - - [13/Jun/2024 11:29:49] \"GET /static/schedula/js/9559.52882117.chunk.js HTTP/1.1\" 200 -\n",
      "127.0.0.1 - - [13/Jun/2024 11:29:49] \"GET /static/schedula/js/2846.dd67d512.chunk.js HTTP/1.1\" 200 -\n",
      "127.0.0.1 - - [13/Jun/2024 11:29:49] \"GET /static/schedula/js/2179.62b3c7e9.chunk.js HTTP/1.1\" 200 -\n",
      "127.0.0.1 - - [13/Jun/2024 11:29:49] \"GET /static/schedula/js/9486.74b2ad72.chunk.js HTTP/1.1\" 200 -\n",
      "127.0.0.1 - - [13/Jun/2024 11:29:49] \"GET /static/schedula/css/2696.fbac7eeb.chunk.css HTTP/1.1\" 200 -\n",
      "127.0.0.1 - - [13/Jun/2024 11:29:49] \"GET /static/schedula/js/2696.2bee98cb.chunk.js HTTP/1.1\" 200 -\n"
     ]
    }
   ],
   "source": [
    "# Click RUN to see the output.\n",
    "form.form(directory='.', view=False)    "
   ]
  }
 ],
 "metadata": {
  "kernelspec": {
   "display_name": "Python 3 (ipykernel)",
   "language": "python",
   "name": "python3"
  },
  "language_info": {
   "codemirror_mode": {
    "name": "ipython",
    "version": 3
   },
   "file_extension": ".py",
   "mimetype": "text/x-python",
   "name": "python",
   "nbconvert_exporter": "python",
   "pygments_lexer": "ipython3",
   "version": "3.11.0"
  }
 },
 "nbformat": 4,
 "nbformat_minor": 4
}
