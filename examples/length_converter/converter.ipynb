{
 "cells": [
  {
   "cell_type": "markdown",
   "metadata": {},
   "source": [
    "# Length converter"
   ]
  },
  {
   "cell_type": "markdown",
   "metadata": {},
   "source": [
    "## Importing modules"
   ]
  },
  {
   "cell_type": "code",
   "execution_count": 1,
   "metadata": {},
   "outputs": [],
   "source": [
    "import schedula as sh\n",
    "from converter import converter, metric, imperial\n",
    "from form import form"
   ]
  },
  {
   "cell_type": "markdown",
   "metadata": {},
   "source": [
    "## Metric model"
   ]
  },
  {
   "cell_type": "code",
   "execution_count": 2,
   "metadata": {},
   "outputs": [
    {
     "data": {
      "text/html": [
       "\n",
       "<style> .sh-box { width: 100%; height: 500px } </style>\n",
       "<iframe id=\"140632262161648\" class=\"sh-box\" src=\"http://localhost:62858/\" allowfullscreen>\n",
       "</iframe>\n"
      ],
      "text/plain": [
       "Site(SiteMap([(Metric, SiteMap())]), host='localhost', port=0, depth=-1, index=True, root_path=None)"
      ]
     },
     "execution_count": 2,
     "metadata": {},
     "output_type": "execute_result"
    }
   ],
   "source": [
    "# Click on the graph to see the model.\n",
    "metric.register().plot(view=False, engine='neato', body={'style': 'filled'}).site()"
   ]
  },
  {
   "cell_type": "markdown",
   "metadata": {},
   "source": [
    "## Imperial model"
   ]
  },
  {
   "cell_type": "code",
   "execution_count": 3,
   "metadata": {
    "scrolled": false
   },
   "outputs": [
    {
     "data": {
      "text/html": [
       "\n",
       "<style> .sh-box { width: 100%; height: 500px } </style>\n",
       "<iframe id=\"140631729715184\" class=\"sh-box\" src=\"http://localhost:62860/\" allowfullscreen>\n",
       "</iframe>\n"
      ],
      "text/plain": [
       "Site(SiteMap([(Imperial, SiteMap())]), host='localhost', port=0, depth=-1, index=True, root_path=None)"
      ]
     },
     "execution_count": 3,
     "metadata": {},
     "output_type": "execute_result"
    }
   ],
   "source": [
    "# Click on the graph to see the model.\n",
    "imperial.register().plot(view=False, engine='neato', body={'style': 'filled'}).site()"
   ]
  },
  {
   "cell_type": "markdown",
   "metadata": {},
   "source": [
    "## Coverter model"
   ]
  },
  {
   "cell_type": "code",
   "execution_count": 4,
   "metadata": {
    "scrolled": false
   },
   "outputs": [
    {
     "data": {
      "text/html": [
       "\n",
       "<style> .sh-box { width: 100%; height: 500px } </style>\n",
       "<iframe id=\"140631476965280\" class=\"sh-box\" src=\"http://localhost:62866/\" allowfullscreen>\n",
       "</iframe>\n"
      ],
      "text/plain": [
       "Site(SiteMap([(LengthConverter, SiteMap())]), host='localhost', port=0, depth=-1, index=True, root_path=None)"
      ]
     },
     "execution_count": 4,
     "metadata": {},
     "output_type": "execute_result"
    }
   ],
   "source": [
    "dsp = converter.register()\n",
    "# Click on the graph to see the model.\n",
    "dsp.plot(view=False, engine='neato', body={'style': 'filled'}).site()"
   ]
  },
  {
   "cell_type": "markdown",
   "metadata": {},
   "source": [
    "# Form Model"
   ]
  },
  {
   "cell_type": "code",
   "execution_count": 5,
   "metadata": {},
   "outputs": [
    {
     "data": {
      "text/html": [
       "\n",
       "<style> .sh-box { width: 100%; height: 500px } </style>\n",
       "<iframe id=\"140631188504736\" class=\"sh-box\" src=\"http://localhost:62869/\" allowfullscreen>\n",
       "</iframe>\n"
      ],
      "text/plain": [
       "Site(SiteMap([(LengthConverterForm, SiteMap())]), host='localhost', port=0, depth=-1, index=True, root_path=None)"
      ]
     },
     "execution_count": 5,
     "metadata": {},
     "output_type": "execute_result"
    }
   ],
   "source": [
    "form = form.register()\n",
    "# Click on the graph to see the model.\n",
    "form.plot(view=False, graph_attr={'rankdir': 'LR'}).site()"
   ]
  },
  {
   "cell_type": "markdown",
   "metadata": {},
   "source": [
    "# Model Execution"
   ]
  },
  {
   "cell_type": "code",
   "execution_count": 6,
   "metadata": {
    "scrolled": true
   },
   "outputs": [
    {
     "data": {
      "text/plain": [
       "Solution([('cm', 2.5),\n",
       "          ('in', 0.984251968503937),\n",
       "          ('mm', 25.0),\n",
       "          ('km', 2.5e-05),\n",
       "          ('th', 984.2519685039371),\n",
       "          ('lea', 5.17809326864445e-06),\n",
       "          ('m', 0.025),\n",
       "          ('dm', 0.25),\n",
       "          ('mi', 1.553427980593335e-05),\n",
       "          ('fur', 0.0001242742384474668),\n",
       "          ('ch', 0.001242742384474668),\n",
       "          ('yd', 0.027340332458442695),\n",
       "          ('ft', 0.08202099737532809)])"
      ]
     },
     "execution_count": 6,
     "metadata": {},
     "output_type": "execute_result"
    }
   ],
   "source": [
    "sol = dsp.dispatch(inputs={'cm': 2.5})\n",
    "sol"
   ]
  },
  {
   "cell_type": "code",
   "execution_count": 7,
   "metadata": {
    "scrolled": false
   },
   "outputs": [
    {
     "data": {
      "text/html": [
       "\n",
       "<style> .sh-box { width: 100%; height: 500px } </style>\n",
       "<iframe id=\"140631188466032\" class=\"sh-box\" src=\"http://localhost:62874/\" allowfullscreen>\n",
       "</iframe>\n"
      ],
      "text/plain": [
       "Site(SiteMap([(LengthConverter, SiteMap())]), host='localhost', port=0, depth=-1, index=True, root_path=None)"
      ]
     },
     "execution_count": 7,
     "metadata": {},
     "output_type": "execute_result"
    }
   ],
   "source": [
    "# Click on the graph to see the model.\n",
    "sol.plot(view=False, body={'style': 'filled'}).site()"
   ]
  },
  {
   "cell_type": "markdown",
   "metadata": {},
   "source": [
    "# GUI Execution"
   ]
  },
  {
   "cell_type": "code",
   "execution_count": 8,
   "metadata": {},
   "outputs": [
    {
     "data": {
      "text/html": [
       "\n",
       "<style> .sh-box { width: 100%; height: 500px } </style>\n",
       "<iframe id=\"140630923308432\" class=\"sh-box\" src=\"http://localhost:62878/\" allowfullscreen>\n",
       "</iframe>\n"
      ],
      "text/plain": [
       "Site(FormMap([(LengthConverterForm, FormMap())]), host='localhost', port=0, depth=-1, index=True, root_path=None)"
      ]
     },
     "execution_count": 8,
     "metadata": {},
     "output_type": "execute_result"
    },
    {
     "name": "stderr",
     "output_type": "stream",
     "text": [
      "127.0.0.1 - - [07/Nov/2022 09:53:33] \"GET / HTTP/1.1\" 200 -\n",
      "127.0.0.1 - - [07/Nov/2022 09:53:33] \"GET /static/schedula/js/main.eb372d2c.js HTTP/1.1\" 200 -\n",
      "127.0.0.1 - - [07/Nov/2022 09:53:33] \"GET /static/schedula/css/main.68cff18a.css HTTP/1.1\" 200 -\n",
      "127.0.0.1 - - [07/Nov/2022 09:53:34] \"GET /static/schedula/forms/index-schema.json HTTP/1.1\" 200 -\n",
      "127.0.0.1 - - [07/Nov/2022 09:53:34] \"GET /static/schedula/forms/index-ui.json HTTP/1.1\" 200 -\n",
      "127.0.0.1 - - [07/Nov/2022 09:53:46] \"POST / HTTP/1.1\" 200 -\n"
     ]
    }
   ],
   "source": [
    "# Click RUN to see the output.\n",
    "form.form(directory='.').site()    "
   ]
  }
 ],
 "metadata": {
  "kernelspec": {
   "display_name": "Python 3",
   "language": "python",
   "name": "python3"
  },
  "language_info": {
   "codemirror_mode": {
    "name": "ipython",
    "version": 3
   },
   "file_extension": ".py",
   "mimetype": "text/x-python",
   "name": "python",
   "nbconvert_exporter": "python",
   "pygments_lexer": "ipython3",
   "version": "3.9.1"
  }
 },
 "nbformat": 4,
 "nbformat_minor": 2
}
